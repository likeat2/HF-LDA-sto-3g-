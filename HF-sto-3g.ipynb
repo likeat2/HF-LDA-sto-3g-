{
 "cells": [
  {
   "cell_type": "markdown",
   "metadata": {},
   "source": [
    "定义球坐标下的全局符号变量$r,\\theta,\\phi$"
   ]
  },
  {
   "cell_type": "code",
   "execution_count": 4,
   "metadata": {},
   "outputs": [],
   "source": [
    "import math\n",
    "import numpy as np\n",
    "import scipy\n",
    "import sympy as sp\n",
    "r,theta,phi,r1,theta1,phi1 = sp.symbols('r theta phi r1 theta1 phi1')\n",
    "\n"
   ]
  },
  {
   "cell_type": "markdown",
   "metadata": {},
   "source": [
    "使用STO-3G基组，定义C原子和H原子的轨道系数和指数"
   ]
  },
  {
   "cell_type": "code",
   "execution_count": 5,
   "metadata": {},
   "outputs": [],
   "source": [
    "alphas_1s_H = np.array([0.3425250914E+01,0.6239137298E+00,0.1688554040E+00])\n",
    "coefficients_1s_H = np.array([0.1543289673E+00,0.5353281423E+00,0.4446345422E+00])\n",
    "\n",
    "alphas_1s_C = np.array([0.7161683735E+02,0.1304509632E+02,0.3530512160E+01])\n",
    "coefficients_1s_C = np.array([0.1543289673E+00,0.5353281423E+00,0.4446345422E+00])\n",
    "alphas_2s_C = np.array([0.2941249355E+01,0.6834830964E+00,0.2222899159E+00])\n",
    "coefficients_2s_C = np.array([-0.9996722919E-01,0.3995128261E+00,0.7001154689E+00])\n",
    "alphas_2p_C = np.array([0.2941249355E+01,0.6834830964E+00,0.2222899159E+00])\n",
    "coefficients_2p_C = np.array([0.1559162750E+00,0.6076837186E+00,0.3919573931E+00])"
   ]
  },
  {
   "cell_type": "markdown",
   "metadata": {},
   "source": [
    "定义$s$轨道的形式\n",
    "$$\\phi_{1s}=\\left(\\frac{2\\alpha}{\\pi}\\right)^{\\frac{3}{4}}e^{-\\alpha r^2} $$"
   ]
  },
  {
   "cell_type": "code",
   "execution_count": 6,
   "metadata": {},
   "outputs": [],
   "source": [
    "def s_gaussian_function(coefficient,alpha):\n",
    "    \n",
    "    s_function = 0\n",
    "    for i in range(0,3):\n",
    "        s_function = s_function + (coefficient[i] * sp.exp(-alpha[i] * r ** 2) * ((2*alpha[i]/sp.pi) **(3/4)))\n",
    "    return s_function\n"
   ]
  },
  {
   "cell_type": "code",
   "execution_count": 7,
   "metadata": {},
   "outputs": [
    {
     "name": "stdout",
     "output_type": "stream",
     "text": [
      "0.653490442100107*exp(-3.425250914*r**2)/pi**0.75 + 0.632027505218341*exp(-0.6239137298*r**2)/pi**0.75 + 0.196975367085776*exp(-0.168855404*r**2)/pi**0.75\n"
     ]
    }
   ],
   "source": [
    "print(s_gaussian_function(coefficients_1s_H, alphas_1s_H))\n"
   ]
  },
  {
   "cell_type": "markdown",
   "metadata": {},
   "source": [
    "定义$2p_x,2p_y,2p_z$轨道的形式\n",
    "$$\\phi_{2p_x}=\\left(\\frac{128\\alpha^5}{\\pi^3}\\right)^{\\frac{1}{4}} r\\sin\\theta\\cos\\phi e^{-\\alpha r^2} $$\n",
    "$$\\phi_{2p_y}=\\left(\\frac{128\\alpha^5}{\\pi^3}\\right)^{\\frac{1}{4}} r\\sin\\theta\\sin\\phi e^{-\\alpha r^2} $$\n",
    "$$\\phi_{2p_z}=\\left(\\frac{128\\alpha^5}{\\pi^3}\\right)^{\\frac{1}{4}} r\\cos\\theta e^{-\\alpha r^2} $$"
   ]
  },
  {
   "cell_type": "code",
   "execution_count": 8,
   "metadata": {},
   "outputs": [],
   "source": [
    "def px_gaussian_function(coefficient,alpha):\n",
    "    \n",
    "    px_function = 0\n",
    "    for i in range(0,3):\n",
    "        px_function = px_function + (coefficient[i] * sp.exp(-alpha[i]*r**2) * r * sp.sin(theta) * sp.cos(phi) *((128 * (alpha[i] ** 5)/(sp.pi ** 3))**(1/4)))\n",
    "    return px_function\n",
    "\n",
    "def py_gaussian_function(coefficient,alpha):\n",
    "\n",
    "    py_function = 0\n",
    "    for i in range(0,3):\n",
    "        py_function = py_function + (coefficient[i] * sp.exp(-alpha[i]*r**2) * r * sp.sin(theta) * sp.sin(phi) *((128 * (alpha[i] ** 5)/(sp.pi ** 3))**(1/4)))\n",
    "    return py_function\n",
    "\n",
    "def pz_gaussian_function(coefficient,alpha):\n",
    "   \n",
    "    pz_function = 0\n",
    "    for i in range(0,3):\n",
    "        pz_function = pz_function + (coefficient[i] * sp.exp(-alpha[i]*r**2) * r * sp.cos(theta) *((128 * (alpha[i] ** 5)/(sp.pi ** 3))**(1/4)))\n",
    "    return pz_function\n"
   ]
  },
  {
   "cell_type": "markdown",
   "metadata": {},
   "source": [
    "定义H原子和C原子的STO-3G基组对应的基函数"
   ]
  },
  {
   "cell_type": "code",
   "execution_count": 9,
   "metadata": {},
   "outputs": [],
   "source": [
    "H_1s = s_gaussian_function(alphas_1s_H, coefficients_1s_H)\n",
    "\n",
    "C_1s = s_gaussian_function(alphas_1s_C, coefficients_1s_C)\n",
    "C_2s = s_gaussian_function(alphas_2s_C, coefficients_2s_C)\n",
    "C_2px = px_gaussian_function(alphas_2p_C, coefficients_2p_C)\n",
    "C_2py = py_gaussian_function(alphas_2p_C, coefficients_2p_C)\n",
    "C_2pz = pz_gaussian_function(alphas_2p_C, coefficients_2p_C)\n",
    "\n",
    "H_basis = H_1s\n",
    "C_basis = [C_1s, C_2s, C_2px, C_2py, C_2pz]"
   ]
  },
  {
   "cell_type": "code",
   "execution_count": 93,
   "metadata": {},
   "outputs": [
    {
     "name": "stdout",
     "output_type": "stream",
     "text": [
      "0.656692559629637*exp(-0.5353281423*r**2)/pi**0.75 + 0.154628612852294*exp(-0.4446345422*r**2)/pi**0.75 + 1.41840572401755*exp(-0.1543289673*r**2)/pi**0.75\n"
     ]
    }
   ],
   "source": [
    "print(H_1s)"
   ]
  },
  {
   "cell_type": "code",
   "execution_count": 94,
   "metadata": {},
   "outputs": [
    {
     "name": "stdout",
     "output_type": "stream",
     "text": [
      "1.23346625175088*r*exp(-0.6076837186*r**2)*sin(theta)*cos(phi)/pi**0.75 + 0.231884024698061*r*exp(-0.3919573931*r**2)*sin(theta)*cos(phi)/pi**0.75 + 0.969278658257632*r*exp(-0.155916275*r**2)*sin(theta)*cos(phi)/pi**0.75\n"
     ]
    }
   ],
   "source": [
    "print(C_2px)"
   ]
  },
  {
   "cell_type": "markdown",
   "metadata": {},
   "source": [
    "计算重叠积分矩阵元\n",
    "$$ S_{\\mu\\nu}=\\int\\phi_\\mu^*(\\bm{r})\\phi_\\nu(\\bm{r})\\mathrm{d}\\bm{r}$$\n"
   ]
  },
  {
   "cell_type": "code",
   "execution_count": 106,
   "metadata": {},
   "outputs": [],
   "source": [
    "def overlap_integral(basis1,basis2):\n",
    "\n",
    "    intf = basis1 * basis2\n",
    "    intf_numeric=sp.lambdify((r,theta,phi),intf,'numpy')\n",
    "    \n",
    "    result, error= scipy.integrate.tplquad(intf_numeric,\n",
    "                                            0, np.inf,\n",
    "                                            lambda r:0 , lambda r:np.pi,\n",
    "                                            lambda r,theta:0 , lambda r,theta:2*np.pi)\n",
    "    return result"
   ]
  },
  {
   "cell_type": "markdown",
   "metadata": {},
   "source": [
    "将重叠积分矩阵幺正化，计算变换矩阵X"
   ]
  },
  {
   "cell_type": "code",
   "execution_count": 1,
   "metadata": {},
   "outputs": [],
   "source": [
    "import scipy.linalg\n",
    "\n",
    "\n",
    "def overlap_matrix_inverse_sqrt(atom_basis):\n",
    "    \n",
    "    overlap_matrix = np.zeros((len(atom_basis),len(atom_basis)))\n",
    "    for i in range(len(atom_basis)):\n",
    "        for j in range(len(atom_basis)):\n",
    "            overlap_matrix[i][j]=overlap_integral(atom_basis[i],atom_basis[j])\n",
    "\n",
    "    overlap_matrix_inverse_sqrt_ij = scipy.linalg.sqrtm(scipy.linalg.inv(overlap_matrix))\n",
    "    return overlap_matrix_inverse_sqrt_ij"
   ]
  },
  {
   "cell_type": "markdown",
   "metadata": {},
   "source": [
    "计算动能积分\n",
    "$$T_{\\mu\\nu}=\\int \\phi_\\mu^*(\\bm{r})(-\\frac{1}{2}\\nabla^2)\\phi_\\nu(\\bm{r})\\mathrm{d}\\bm{r}$$\n",
    "在球坐标下\n",
    "$$\\nabla^2=-\\frac{1}{r^2}\\frac{\\partial}{\\partial r}(r^2\\frac{\\partial }{\\partial r})+\\frac{1}{r^2 \\sin\\theta}\\frac{\\partial}{\\partial \\theta}(\\sin\\theta\\frac{\\partial}{\\partial\\theta})+\\frac{1}{r^2 \\sin^2\\theta}\\frac{\\partial^2}{\\partial\\phi^2}$$"
   ]
  },
  {
   "cell_type": "code",
   "execution_count": 97,
   "metadata": {},
   "outputs": [],
   "source": [
    "def kinetic_energy(basis1,basis2):\n",
    "    \n",
    "    \n",
    "    intf = -0.5*basis1*((-1/r**2)*sp.diff(r**2*sp.diff(basis2,r),r)+1/(r**2*sp.sin(theta))*sp.diff(sp.sin(theta)*sp.diff(basis2,theta),theta)+1/(r**2*sp.sin(theta)**2)*sp.diff(basis2,phi,phi))\n",
    "    intf_numeric=sp.lambdify((phi,theta,r),intf,'numpy')\n",
    "    \n",
    "    result, error = scipy.integrate.tplquad(intf_numeric,\n",
    "                                            0, 2*np.pi,\n",
    "                                            lambda phi:0 , lambda phi:np.pi,\n",
    "                                            lambda r,phi:0 , lambda r,phi:np.inf)\n",
    "    return result"
   ]
  },
  {
   "cell_type": "code",
   "execution_count": 98,
   "metadata": {},
   "outputs": [
    {
     "name": "stderr",
     "output_type": "stream",
     "text": [
      "c:\\Users\\28724\\AppData\\Local\\Programs\\Python\\Python312\\Lib\\site-packages\\scipy\\integrate\\_quadpack_py.py:1260: IntegrationWarning: The integral is probably divergent, or slowly convergent.\n",
      "  quad_r = quad(f, low, high, args=args, full_output=self.full_output,\n"
     ]
    },
    {
     "name": "stdout",
     "output_type": "stream",
     "text": [
      "2.2271097965217685\n",
      "540.0998133147342\n"
     ]
    }
   ],
   "source": [
    "print(kinetic_energy(H_1s,H_1s))\n",
    "print(kinetic_energy(C_2px, C_2px))"
   ]
  },
  {
   "cell_type": "markdown",
   "metadata": {},
   "source": [
    "计算核吸引势能\n",
    "$$V_{\\mu\\nu}=\\int \\phi_\\mu^*(\\bm{r})(-\\frac{Z_{atom}}{r})\\phi_\\nu(\\bm{r})\\mathrm{d}\\bm{r}$$"
   ]
  },
  {
   "cell_type": "code",
   "execution_count": 17,
   "metadata": {},
   "outputs": [],
   "source": [
    "def nuclear_attraction_energy(basis1,basis2,nuclear_number):\n",
    "    \n",
    "    intf = -basis1*basis2*nuclear_number/r\n",
    "    intf_numeric=sp.lambdify((r,theta,phi),intf,'numpy')\n",
    "    \n",
    "    result, error = scipy.integrate.tplquad(intf_numeric,\n",
    "                                            0, np.inf,\n",
    "                                            lambda r:0 , lambda r:np.pi,\n",
    "                                            lambda r,theta:0 , lambda r,theta:2*np.pi)\n",
    "    return result\n"
   ]
  },
  {
   "cell_type": "markdown",
   "metadata": {},
   "source": [
    "计算双电子积分中的库仑积分\n",
    "\n",
    "$$K_{ij}=\\int \\phi_\\mu^*(\\bm{r}_1)\\phi_\\nu(\\bm{r}_1)\\frac{1}{|\\bm{r}_1-\\bm{r}_2|}\\phi_i^*(\\bm{r}_2)\\phi_j(\\bm{r}_2) \\mathrm{d}\\bm{r}_1\\mathrm{d}\\bm{r}_2$$"
   ]
  },
  {
   "cell_type": "code",
   "execution_count": 16,
   "metadata": {},
   "outputs": [],
   "source": [
    "def coulomb_energy(basis1,basis2,basis3,basis4):\n",
    "\n",
    "    basis21=basis2.subs({r:r1, theta:theta1, phi:phi1})\n",
    "    basis41=basis4.subs({r:r1, theta:theta1, phi:phi1})\n",
    "\n",
    "    intf=basis1*basis21*basis3*basis41/sp.sqrt(r**2+r1**2-2*r*r1(sp.sin(phi)*sp.sin(phi1)*sp.sin(theta-theta1)+sp.cos(phi)*sp.cos(phi1)))\n",
    "\n",
    "    intf_numeric=sp.lambdify((r,theta,phi,r1,theta1,phi1),intf,'numpy')\n",
    "\n",
    "    r_bounds=[0,np.inf]\n",
    "    theta_bounds=[0,np.pi]\n",
    "    phi_bounds=[0,2*np.pi]\n",
    "    r1_bounds=[0,np.inf]\n",
    "    theta1_bounds=[0,np.pi]\n",
    "    phi1_bounds=[0,2*np.pi]\n",
    "\n",
    "    result, error = scipy.integrate.nquad(intf_numeric,\n",
    "                                          [r_bounds, theta_bounds, phi_bounds, r1_bounds, theta1_bounds, phi1_bounds])\n",
    "    \n",
    "    return result\n",
    "\n",
    "\n",
    "    "
   ]
  },
  {
   "cell_type": "markdown",
   "metadata": {},
   "source": [
    "下面给出库仑积分的矩阵元\n",
    "\n",
    "$$K_{\\mu\\nu}=\\sum_i\\sum_j K_{ij}$$"
   ]
  },
  {
   "cell_type": "code",
   "execution_count": 1,
   "metadata": {},
   "outputs": [],
   "source": [
    "def coulomb_energy_matrix(basis1,basis2,atom_basis):\n",
    "    \n",
    "    coulomb_energy_uv = 0\n",
    "    for i in range(len(atom_basis)):\n",
    "        for j in range(len(atom_basis)):\n",
    "            coulomb_energy_uv = coulomb_energy_uv + coulomb_energy(basis1,basis2,atom_basis[i],atom_basis[j])\n",
    "\n",
    "    return coulomb_energy_uv"
   ]
  },
  {
   "cell_type": "markdown",
   "metadata": {},
   "source": [
    "计算双电子积分中的交换积分\n",
    "\n",
    "$$J_{ij}=\\int \\phi_\\mu^*(\\bm{r}_1)\\phi_\\nu(\\bm{r}_2)\\frac{1}{|\\bm{r}_1-\\bm{r}_2|}\\phi_i^*(\\bm{r}_2)\\phi_j(\\bm{r}_1) \\mathrm{d}\\bm{r}_1\\mathrm{d}\\bm{r}_2$$"
   ]
  },
  {
   "cell_type": "code",
   "execution_count": 101,
   "metadata": {},
   "outputs": [],
   "source": [
    "def exchange_energy(basis1,basis2,basis3,basis4):\n",
    "\n",
    "    basis21=basis2.subs({r:r1, theta:theta1, phi:phi1})\n",
    "    basis31=basis3.subs({r:r1, theta:theta1, phi:phi1})\n",
    "\n",
    "    intf=basis1*basis21*basis31*basis4/sp.sqrt(r**2+r1**2-2*r*r1(sp.sin(phi)*sp.sin(phi1)*sp.sin(theta-theta1)+sp.cos(phi)*sp.cos(phi1)))\n",
    "\n",
    "    intf_numeric=sp.lambdify((r,theta,phi,r1,theta1,phi1),intf,'numpy')\n",
    "\n",
    "    r_bounds=[0,np.inf]\n",
    "    theta_bounds=[0,np.pi]\n",
    "    phi_bounds=[0,2*np.pi]\n",
    "    r1_bounds=[0,np.inf]\n",
    "    theta1_bounds=[0,np.pi]\n",
    "    phi1_bounds=[0,2*np.pi]\n",
    "\n",
    "    result, error = scipy.integrate.nquad(intf_numeric,\n",
    "                                          [r_bounds, theta_bounds, phi_bounds, r1_bounds, theta1_bounds, phi1_bounds])\n",
    "    \n",
    "    return result"
   ]
  },
  {
   "cell_type": "markdown",
   "metadata": {},
   "source": [
    "给出交换积分的矩阵元\n",
    "\n",
    "$$J_{\\mu\\nu}=\\sum_i\\sum_j J_{ij}$$"
   ]
  },
  {
   "cell_type": "code",
   "execution_count": 15,
   "metadata": {},
   "outputs": [],
   "source": [
    "def exchange_energy_matrix(basis1,basis2,atom_basis):\n",
    "    \n",
    "    exchange_energy_uv = 0\n",
    "    \n",
    "    for i in range(len(atom_basis)):\n",
    "        for j in range(len(atom_basis)):\n",
    "            exchange_energy_uv = exchange_energy_uv + exchange_energy(basis1,basis2,atom_basis[i],atom_basis[j])\n",
    "\n",
    "    return exchange_energy_uv"
   ]
  },
  {
   "cell_type": "markdown",
   "metadata": {},
   "source": [
    "根据上面计算的积分给出UHF中的Fock矩阵\n",
    "$$F^\\alpha_{\\mu\\nu}=T_{\\mu\\nu}+V_{\\mu\\nu}+P_{\\mu\\nu}J_{\\mu\\nu}-P^\\alpha_{\\mu\\nu}K_{\\mu\\nu} $$\n",
    "$$F^\\beta_{\\mu\\nu}=T_{\\mu\\nu}+V_{\\mu\\nu}+P_{\\mu\\nu}J_{\\mu\\nu}-P^\\beta_{\\mu\\nu}K_{\\mu\\nu} $$\n"
   ]
  },
  {
   "cell_type": "code",
   "execution_count": 4,
   "metadata": {},
   "outputs": [],
   "source": [
    "def fock_matrix(atom_basis,density_matrix_alpha,density_matrix_beta,electron_number_alpha,electron_number_beta):\n",
    "\n",
    "    fock_matrix_alpha = np.zeros((len(atom_basis),len(atom_basis)))\n",
    "    fock_matrix_beta = np.zeros((len(atom_basis),len(atom_basis)))\n",
    "    for i in range(len(atom_basis)):\n",
    "        for j in range(len(atom_basis)):\n",
    "            density = 0, density_alpha = 0, density_beta = 0\n",
    "            for k in range(len(electron_number_alpha)):\n",
    "                density_alpha = density_alpha + density_matrix_alpha[i][k]*density_matrix_alpha[j][k]\n",
    "            for k in range(len(electron_number_beta)):\n",
    "                density_beta = density_beta + density_matrix_beta[i][k]*density_matrix_beta[j][k]\n",
    "            density = density_alpha + density_beta\n",
    "            fock_matrix_alpha[i][j] = kinetic_energy(atom_basis[i],atom_basis[j]) + nuclear_attraction_energy(atom_basis[i],atom_basis[j])+density*coulomb_energy_matrix(atom_basis[i],atom_basis[j],atom_basis)-density_alpha*exchange_energy_matrix(atom_basis[i],atom_basis[j],atom_basis)\n",
    "            fock_matrix_beta[i][j] = kinetic_energy(atom_basis[i],atom_basis[j]) + nuclear_attraction_energy(atom_basis[i],atom_basis[j])+density*coulomb_energy_matrix(atom_basis[i],atom_basis[j],atom_basis)-density_beta*exchange_energy_matrix(atom_basis[i],atom_basis[j],atom_basis)\n",
    "    return fock_matrix_alpha, fock_matrix_beta"
   ]
  },
  {
   "cell_type": "markdown",
   "metadata": {},
   "source": [
    "SCF自洽循环过程\n",
    "\n",
    "1.产生密度矩阵P的初始猜测，这里生成两个单位矩阵，分别对于$\\alpha$电子和$\\beta$电子\n",
    "\n",
    "2.由密度矩阵P计算Fock矩阵F\n",
    "\n",
    "3.计算幺正化基组对应的Fock矩阵F'=X $^\\dagger$FX\n",
    "\n",
    "4.对角化F'，得到特征值（轨道能）特征向量C'\n",
    "\n",
    "5.计算轨道展开系数C=XC'\n",
    "\n",
    "6.计算新的密度矩阵P\n",
    "\n",
    "7。判断是否收敛，未收敛则返回第二步"
   ]
  },
  {
   "cell_type": "code",
   "execution_count": 2,
   "metadata": {},
   "outputs": [],
   "source": [
    "def SCF_cycle(atom_basis,electron_number_alpha,electron_number_beta):\n",
    "    \n",
    "    #初始化两个单位阵\n",
    "    density_matrix_alpha = np.eye(len(atom_basis))\n",
    "    density_matrix_beta = np.eye(len(atom_basis))\n",
    "    iteration_max = 1e4\n",
    "    for i in range(iteration_max):\n",
    "        fock_matrix_alpha,fock_matrix_beta=fock_matrix(atom_basis,electron_number_alpha,electron_number_beta)\n",
    "        fock_matrix_alpha1 = np.dot(overlap_matrix_inverse_sqrt(atom_basis),np.dot(fock_matrix_alpha,overlap_matrix_inverse_sqrt(atom_basis)))\n",
    "        fock_matrix_beta1 = np.dot(overlap_matrix_inverse_sqrt(atom_basis),np.dot(fock_matrix_beta,overlap_matrix_inverse_sqrt(atom_basis)))\n",
    "        eigenvalues1, eigenvectors1 = np.linalg.eigh(fock_matrix_alpha1)\n",
    "        eigenvalues2, eigenvectors2 = np.linalg.eigh(fock_matrix_beta1)\n",
    "        density_matrix_alpha_new = np.dot(overlap_matrix_inverse_sqrt(atom_basis),eigenvectors1)\n",
    "        density_matrix_beta_new = np.dot(overlap_matrix_inverse_sqrt(atom_basis),eigenvectors2)\n",
    "        if abs(np.linalg.norm(density_matrix_alpha_new)+np.linalg.norm(density_matrix_beta_new)-(np.linalg.norm(density_matrix_alpha)+np.linalg.norm(density_matrix_beta)))<1e-4:\n",
    "            break\n",
    "        else:\n",
    "            density_matrix_alpha = density_matrix_alpha_new\n",
    "            density_matrix_beta = density_matrix_beta_new\n",
    "\n",
    "\n",
    "    \n",
    "    \n"
   ]
  },
  {
   "cell_type": "code",
   "execution_count": null,
   "metadata": {},
   "outputs": [],
   "source": [
    "SCF_cycle(H_basis,1,0)\n",
    "SCF_cycle(C_basis,4,2)"
   ]
  },
  {
   "cell_type": "markdown",
   "metadata": {},
   "source": [
    "遗憾的是，这个直接使用简单粗暴的数值积分的代码计算量太大了，实际上很难运行起来。使用Gauss-Legendre网格来计算积分可能会效率更高，但是我目前还写不出来，尽力了：(\n",
    "如果要使用DFT（LDA）方法计算，只需要把交换能更换为以下形式：\n",
    "$$E_x^{LDA}[\\rho]=-\\frac{3}{4}(\\frac{3}{\\pi})^{\\frac{1}{3}}\\int \\rho(r)^{4/3} dr $$"
   ]
  },
  {
   "cell_type": "code",
   "execution_count": null,
   "metadata": {},
   "outputs": [],
   "source": [
    "def exchange_correlation_energy_LDA(rho):\n",
    "    \n",
    "    C_lda = (3/4) * (3.0/np.pi) ** (1/3)\n",
    "    return -C_lda * (rho) ** (4/3)"
   ]
  },
  {
   "cell_type": "code",
   "execution_count": 5,
   "metadata": {},
   "outputs": [],
   "source": [
    "def fock_matrix(atom_basis,density_matrix_alpha,density_matrix_beta,electron_number_alpha,electron_number_beta):\n",
    "\n",
    "    fock_matrix_alpha = np.zeros((len(atom_basis),len(atom_basis)))\n",
    "    fock_matrix_beta = np.zeros((len(atom_basis),len(atom_basis)))\n",
    "    for i in range(len(atom_basis)):\n",
    "        for j in range(len(atom_basis)):\n",
    "            density = 0\n",
    "            density_alpha = 0\n",
    "            density_beta = 0\n",
    "            for k in range(len(electron_number_alpha)):\n",
    "                density_alpha = density_alpha + density_matrix_alpha[i][k]*density_matrix_alpha[j][k]\n",
    "            for k in range(len(electron_number_beta)):\n",
    "                density_beta = density_beta + density_matrix_beta[i][k]*density_matrix_beta[j][k]\n",
    "            density = density_alpha + density_beta\n",
    "            fock_matrix_alpha[i][j] = kinetic_energy(atom_basis[i],atom_basis[j]) + nuclear_attraction_energy(atom_basis[i],atom_basis[j])+density*coulomb_energy_matrix(atom_basis[i],atom_basis[j],atom_basis)-exchange_correlation_energy_LDA(density)\n",
    "            fock_matrix_beta[i][j] = kinetic_energy(atom_basis[i],atom_basis[j]) + nuclear_attraction_energy(atom_basis[i],atom_basis[j])+density*coulomb_energy_matrix(atom_basis[i],atom_basis[j],atom_basis)-exchange_correlation_energy_LDA(density)\n",
    "    return fock_matrix_alpha, fock_matrix_beta"
   ]
  }
 ],
 "metadata": {
  "kernelspec": {
   "display_name": "Python 3",
   "language": "python",
   "name": "python3"
  },
  "language_info": {
   "codemirror_mode": {
    "name": "ipython",
    "version": 3
   },
   "file_extension": ".py",
   "mimetype": "text/x-python",
   "name": "python",
   "nbconvert_exporter": "python",
   "pygments_lexer": "ipython3",
   "version": "3.12.7"
  }
 },
 "nbformat": 4,
 "nbformat_minor": 2
}
